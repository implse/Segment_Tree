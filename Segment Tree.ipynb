{
 "cells": [
  {
   "cell_type": "markdown",
   "metadata": {},
   "source": [
    "# Segment Tree"
   ]
  },
  {
   "cell_type": "markdown",
   "metadata": {},
   "source": [
    "## Introduction"
   ]
  },
  {
   "cell_type": "markdown",
   "metadata": {},
   "source": [
    "A Segment Tree is a data structure that can be used to perform range queries in an easy and fastest way over a list, while still being flexible enough to allow modifying the list. This includes finding the sum of consecutive list elements `a[l…r]`, or finding the minimum element in a such a range in `O(log n)` time. \n",
    "\n",
    "A Segment Tree is a height balanced binary tree, usually built on top of an list.\n",
    "\n",
    "The root node contains the sum of all numbers in the tree, its children contain the sum of all numbers in their respective range and so on down the tree leaf nodes. Each intermediate node of the tree represent a segment of the data set.\n",
    "\n",
    "The Segment Tree creates query path that limit the amount of processing required to return data."
   ]
  },
  {
   "cell_type": "markdown",
   "metadata": {},
   "source": [
    "## Implementation"
   ]
  },
  {
   "cell_type": "markdown",
   "metadata": {},
   "source": [
    "To understand Segment Tree we have take a list of numbers.\n",
    "\n",
    "Let's take a list of numbers `N` of length 8 indexed from 0 to 7 and we would like to solve problems called `range queries` and `updates`."
   ]
  },
  {
   "cell_type": "markdown",
   "metadata": {},
   "source": [
    "`N = [1, 3, 5, 6, 7, -3, 6, 2]`"
   ]
  },
  {
   "cell_type": "markdown",
   "metadata": {},
   "source": [
    "1 : Range queries mean to determine the sum of different segments of the given list."
   ]
  },
  {
   "cell_type": "markdown",
   "metadata": {},
   "source": [
    "`sum(0, 3) = 1 + 3 + 5 + 6 = 15`"
   ]
  },
  {
   "cell_type": "markdown",
   "metadata": {},
   "source": [
    "2 : Update means to change the value of a specified element of the given list to a new value"
   ]
  },
  {
   "cell_type": "markdown",
   "metadata": {},
   "source": [
    "`update(3, 5)` update the list `N` to `[1, 3, 5, 5, 7, -3, 6, 2]`"
   ]
  },
  {
   "cell_type": "markdown",
   "metadata": {},
   "source": [
    "3 : After performing the update, the `sum(0, 3)` needs to be update."
   ]
  },
  {
   "cell_type": "markdown",
   "metadata": {},
   "source": [
    "`sum(0, 3) = 1 + 3 + 5 + 5 = 14`"
   ]
  },
  {
   "cell_type": "markdown",
   "metadata": {},
   "source": [
    "We can use Segment Tree to perform both the operations (range queries and update) in `O(log n)` time."
   ]
  },
  {
   "cell_type": "code",
   "execution_count": null,
   "metadata": {
    "collapsed": true
   },
   "outputs": [],
   "source": []
  }
 ],
 "metadata": {
  "kernelspec": {
   "display_name": "Python 3",
   "language": "python",
   "name": "python3"
  },
  "language_info": {
   "codemirror_mode": {
    "name": "ipython",
    "version": 3
   },
   "file_extension": ".py",
   "mimetype": "text/x-python",
   "name": "python",
   "nbconvert_exporter": "python",
   "pygments_lexer": "ipython3",
   "version": "3.6.0"
  }
 },
 "nbformat": 4,
 "nbformat_minor": 2
}
