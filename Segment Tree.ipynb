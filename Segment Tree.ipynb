{
 "cells": [
  {
   "cell_type": "markdown",
   "metadata": {},
   "source": [
    "# Segment Tree"
   ]
  },
  {
   "cell_type": "markdown",
   "metadata": {},
   "source": [
    "## Introduction"
   ]
  },
  {
   "cell_type": "markdown",
   "metadata": {},
   "source": [
    "A Segment Tree is a data structure that can be used to perform range queries in an easy and fastest way over a list, while still being flexible enough to allow modifying the list. This includes finding the sum of consecutive list elements `a[l…r]`, or finding the minimum element in a such a range in `O(log n)` time. \n",
    "\n",
    "A Segment Tree is a height balanced binary tree, usually built on top of an list.\n",
    "\n",
    "The root node contains the sum of all numbers in the tree, its children contain the sum of all numbers in their respective range and so on down the tree leaf nodes. Each intermediate node of the tree represent a segment of the data set.\n",
    "\n",
    "The Segment Tree creates query path that limit the amount of processing required to return data."
   ]
  },
  {
   "cell_type": "markdown",
   "metadata": {},
   "source": [
    "## Implementation"
   ]
  },
  {
   "cell_type": "markdown",
   "metadata": {},
   "source": [
    "To understand Segment Tree we have take a list of numbers.\n",
    "\n",
    "Let's take a list of numbers `N` of length 8 indexed from 0 to 7 and we would like to solve problems called `range queries` and `updates`."
   ]
  },
  {
   "cell_type": "markdown",
   "metadata": {},
   "source": [
    "`N = [1, 3, 5, 6, 7, -3, 6, 2]`"
   ]
  },
  {
   "cell_type": "markdown",
   "metadata": {},
   "source": [
    "1 : Range queries mean to determine the sum of different segments of the given list."
   ]
  },
  {
   "cell_type": "markdown",
   "metadata": {},
   "source": [
    "`sum(0, 3) = 1 + 3 + 5 + 6 = 15`"
   ]
  },
  {
   "cell_type": "markdown",
   "metadata": {},
   "source": [
    "2 : Update means to change the value of a specified element of the given list to a new value"
   ]
  },
  {
   "cell_type": "markdown",
   "metadata": {},
   "source": [
    "`update(3, 5)` update the list `N` to `[1, 3, 5, 5, 7, -3, 6, 2]`"
   ]
  },
  {
   "cell_type": "markdown",
   "metadata": {},
   "source": [
    "3 : After performing the update, the `sum(0, 3)` needs to be update."
   ]
  },
  {
   "cell_type": "markdown",
   "metadata": {},
   "source": [
    "`sum(0, 3) = 1 + 3 + 5 + 5 = 14`"
   ]
  },
  {
   "cell_type": "markdown",
   "metadata": {},
   "source": [
    "We can use Segment Tree to perform both the operations (range queries and update) in `O(log n)` time."
   ]
  },
  {
   "cell_type": "code",
   "execution_count": 15,
   "metadata": {
    "collapsed": true
   },
   "outputs": [],
   "source": [
    "n = len(lst)\n",
    "\n",
    "# Tree max size\n",
    "tree = [0] * (2 * n)\n",
    "\n",
    "def buildsegmentTree(lst):\n",
    "\n",
    "    # insert left nodes in tree\n",
    "    for i in range(n):\n",
    "        tree[n + i] = lst[i]\n",
    "    # creating parent node by adding left and right child\n",
    "    for i in range(n - 1, 0, -1):\n",
    "        tree[i] = tree[2 * i] + tree[2 * i + 1]\n",
    "\n",
    "def updateSegmentTree(index, value):\n",
    "    tree[index + n] = value\n",
    "    index += n\n",
    "    \n",
    "    i = index\n",
    "    while i > 1:\n",
    "        tree[i // 2] = tree[i] + tree[i + 1]\n",
    "        i = i // 2\n",
    "\n",
    "def querySegmentTree(left, right):\n",
    "    sum_range = 0\n",
    "    left += n\n",
    "    right += n\n",
    "    while left < right:\n",
    "        if left & 1 > 0:\n",
    "            sum_range += tree[left]\n",
    "            left += 1\n",
    "        if right & 1 > 0:\n",
    "            right -= 1\n",
    "            sum_range += tree[right]\n",
    "        left = left // 2\n",
    "        right = right // 2\n",
    "    return sum_range"
   ]
  },
  {
   "cell_type": "code",
   "execution_count": 16,
   "metadata": {
    "collapsed": false
   },
   "outputs": [
    {
     "name": "stdout",
     "output_type": "stream",
     "text": [
      "9\n",
      "11\n"
     ]
    }
   ],
   "source": [
    "# Test\n",
    "lst = [1, 2, 3, 4, 5, 6, 7, 8]\n",
    "n = len(lst)\n",
    "\n",
    "buildsegmentTree(lst)\n",
    "\n",
    "print(querySegmentTree(1, 4))\n",
    "\n",
    "updateSegmentTree(2, 5)\n",
    "\n",
    "print(querySegmentTree(1, 4))"
   ]
  },
  {
   "cell_type": "markdown",
   "metadata": {},
   "source": [
    "## Time Complexity"
   ]
  },
  {
   "cell_type": "markdown",
   "metadata": {},
   "source": [
    "- Segment Tree construction : `O(n)`\n",
    "\n",
    "- Query in Range : `O(log(n))`\n",
    "    \n",
    "- Updating an element : `O(log(n))`"
   ]
  },
  {
   "cell_type": "code",
   "execution_count": null,
   "metadata": {
    "collapsed": true
   },
   "outputs": [],
   "source": []
  }
 ],
 "metadata": {
  "kernelspec": {
   "display_name": "Python 3",
   "language": "python",
   "name": "python3"
  },
  "language_info": {
   "codemirror_mode": {
    "name": "ipython",
    "version": 3
   },
   "file_extension": ".py",
   "mimetype": "text/x-python",
   "name": "python",
   "nbconvert_exporter": "python",
   "pygments_lexer": "ipython3",
   "version": "3.6.0"
  }
 },
 "nbformat": 4,
 "nbformat_minor": 2
}
